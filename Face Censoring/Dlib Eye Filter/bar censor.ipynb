{
 "cells": [
  {
   "cell_type": "code",
   "execution_count": 1,
   "metadata": {},
   "outputs": [],
   "source": [
    "import cv2\n",
    "import numpy as np\n",
    "import dlib\n",
    "from math import hypot"
   ]
  },
  {
   "cell_type": "code",
   "execution_count": 2,
   "metadata": {},
   "outputs": [],
   "source": [
    "# Loading Camera and eye image and Creating mask\n",
    "#cap = cv2.VideoCapture(0) #Load Camera Video\n",
    "cap = cv2.VideoCapture(0)\n",
    "eye_image = cv2.imread('censor.png')\n",
    "_, frame = cap.read()\n",
    "rows, cols, _ = frame.shape\n",
    "eye_mask = np.zeros((rows, cols), np.uint8)"
   ]
  },
  {
   "cell_type": "code",
   "execution_count": 3,
   "metadata": {},
   "outputs": [],
   "source": [
    "# Loading Face detector\n",
    "detector = dlib.get_frontal_face_detector()\n",
    "predictor = dlib.shape_predictor(\"shape_predictor_68_face_landmarks.dat\")\n",
    "\n",
    "# Explain what is the dlib shape predictor"
   ]
  },
  {
   "cell_type": "code",
   "execution_count": 4,
   "metadata": {},
   "outputs": [],
   "source": [
    "while True:\n",
    "    _, frame = cap.read()\n",
    "    eye_mask.fill(0)\n",
    "    gray_frame = cv2.cvtColor(frame, cv2.COLOR_BGR2GRAY)\n",
    "\n",
    "    faces = detector(frame)\n",
    "    for face in faces:\n",
    "        landmarks = predictor(gray_frame, face)\n",
    "\n",
    "        # Eye coordinates\n",
    "        top_eye = (landmarks.part(19).x, landmarks.part(24).y) #previously 29\n",
    "        center_eye = (landmarks.part(30).x, landmarks.part(30).y)\n",
    "        left_eye = (landmarks.part(0).x, landmarks.part(0).y) #31\n",
    "        right_eye = (landmarks.part(16).x, landmarks.part(16).y) #35\n",
    "\n",
    "        eye_width = int(hypot(left_eye[0] - right_eye[0],\n",
    "                           left_eye[1] - right_eye[1]) * 1.7)\n",
    "        eye_height = int(eye_width * 0.25) #0.77\n",
    "\n",
    "        # New eye position\n",
    "        top_left = (int(center_eye[0] - eye_width / 2), #(int(center_eye[0] - eye_width / 2)\n",
    "                              int(center_eye[1] - eye_height / 0.8))# 2\n",
    "        bottom_right = (int(center_eye[0] + eye_width / 2),\n",
    "                       int(center_eye[1] + eye_height / 2))\n",
    "\n",
    "\n",
    "        # Adding the new eye\n",
    "        eye_bar = cv2.resize(eye_image, (eye_width, eye_height))\n",
    "        eye_bar_gray = cv2.cvtColor(eye_bar, cv2.COLOR_BGR2GRAY)\n",
    "        _, eye_mask = cv2.threshold(eye_bar_gray, 25, 255, cv2.THRESH_BINARY_INV)\n",
    "\n",
    "        eye_area = frame[top_left[1]: top_left[1] + eye_height,\n",
    "                    top_left[0]: top_left[0] + eye_width]\n",
    "        eye_area_no_eye = cv2.bitwise_and(eye_area, eye_area, mask=eye_mask)\n",
    "        final_eye = cv2.add(eye_area_no_eye, eye_bar)\n",
    "\n",
    "        frame[top_left[1]: top_left[1] + eye_height,\n",
    "                    top_left[0]: top_left[0] + eye_width] = final_eye\n",
    "\n",
    "        cv2.imshow(\"eye area\", eye_area)\n",
    "        cv2.imshow(\"eye bar\", eye_bar)\n",
    "        cv2.imshow(\"final eye\", final_eye)\n",
    "\n",
    "\n",
    "\n",
    "    cv2.imshow(\"Frame\", frame) # Display video\n",
    "\n",
    "\n",
    "\n",
    "    key = cv2.waitKey(1)\n",
    "    if key == 27:\n",
    "        cap.release()\n",
    "        cv2.destroyAllWindows()\n",
    "        break"
   ]
  },
  {
   "cell_type": "code",
   "execution_count": 5,
   "metadata": {},
   "outputs": [],
   "source": [
    "        cap.release()\n",
    "        cv2.destroyAllWindows()"
   ]
  },
  {
   "cell_type": "code",
   "execution_count": null,
   "metadata": {},
   "outputs": [],
   "source": []
  }
 ],
 "metadata": {
  "kernelspec": {
   "display_name": "Python 3",
   "language": "python",
   "name": "python3"
  },
  "language_info": {
   "codemirror_mode": {
    "name": "ipython",
    "version": 3
   },
   "file_extension": ".py",
   "mimetype": "text/x-python",
   "name": "python",
   "nbconvert_exporter": "python",
   "pygments_lexer": "ipython3",
   "version": "3.8.3"
  }
 },
 "nbformat": 4,
 "nbformat_minor": 4
}
