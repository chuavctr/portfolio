{
 "cells": [
  {
   "cell_type": "markdown",
   "metadata": {},
   "source": [
    "# MCO Graph"
   ]
  },
  {
   "cell_type": "code",
   "execution_count": 1,
   "metadata": {},
   "outputs": [],
   "source": [
    "import pandas as pd\n",
    "import numpy as np \n",
    "import matplotlib.pyplot as plt\n",
    "from sklearn.linear_model import LinearRegression\n",
    "import statsmodels.api as sm\n",
    "import seaborn as seabornInstance \n",
    "from sklearn import metrics"
   ]
  },
  {
   "cell_type": "code",
   "execution_count": 2,
   "metadata": {},
   "outputs": [],
   "source": [
    "df = pd.read_csv(r'C19 MCO.csv')\n",
    "df = df.dropna()"
   ]
  },
  {
   "cell_type": "code",
   "execution_count": 3,
   "metadata": {},
   "outputs": [
    {
     "name": "stdout",
     "output_type": "stream",
     "text": [
      "    day      date  new_cases_malaysia  total_cases_malaysia  \\\n",
      "0    55  18-03-20                 117                   790   \n",
      "1    56  19-03-20                 110                   900   \n",
      "2    57  20-03-20                 130                  1030   \n",
      "3    58  21-03-20                 153                  1183   \n",
      "4    59  22-03-20                 123                  1306   \n",
      "5    60  23-03-20                 212                  1518   \n",
      "6    61  24-03-20                 106                  1624   \n",
      "7    62  25-03-20                 172                  1796   \n",
      "8    63  26-03-20                 235                  2031   \n",
      "9    64  27-03-20                 130                  2161   \n",
      "10   65  28-03-20                 159                  2320   \n",
      "11   66  29-03-20                 150                  2470   \n",
      "12   67  30-03-20                 156                  2626   \n",
      "13   68  31-03-20                 140                  2766   \n",
      "14   69  01-04-20                 142                  2908   \n",
      "15   70  02-04-20                 208                  3116   \n",
      "16   71  03-04-20                 217                  3333   \n",
      "17   72  04-04-20                 150                  3483   \n",
      "18   73  05-04-20                 179                  3662   \n",
      "19   74  06-04-20                 131                  3793   \n",
      "20   75  07-04-20                 170                  3963   \n",
      "21   76  08-04-20                 156                  4119   \n",
      "22   77  09-04-20                 109                  4228   \n",
      "23   78  10-04-20                 118                  4346   \n",
      "24   79  11-04-20                 184                  4530   \n",
      "25   80  12-04-20                 153                  4683   \n",
      "26   81  13-04-20                 134                  4817   \n",
      "27   82  14-04-20                 170                  4987   \n",
      "28   83  15-04-20                  85                  5072   \n",
      "29   84  16-04-20                 110                  5182   \n",
      "30   85  17-04-20                  69                  5251   \n",
      "31   86  18-04-20                  54                  5305   \n",
      "32   87  19-04-20                  84                  5389   \n",
      "33   88  20-04-20                  36                  5425   \n",
      "34   89  21-04-20                  57                  5482   \n",
      "35   90  22-04-20                  50                  5532   \n",
      "36   91  23-04-20                  71                  5603   \n",
      "37   92  24-04-20                  88                  5691   \n",
      "38   93  25-04-20                  51                  5742   \n",
      "39   94  26-04-20                  38                  5780   \n",
      "40   95  27-04-20                  40                  5820   \n",
      "41   96  28-04-20                  31                  5851   \n",
      "42   97  29-04-20                  94                  5945   \n",
      "43   98  30-04-20                  57                  6002   \n",
      "44   99  01-05-20                  69                  6071   \n",
      "45  100  02-05-20                 105                  6176   \n",
      "46  101  03-05-20                 122                  6298   \n",
      "\n",
      "    new_death_malaysia  total_death_malaysia  new_recovered_malaysia  \\\n",
      "0                    1                     3                      11   \n",
      "1                    0                     3                      15   \n",
      "2                    1                     4                      12   \n",
      "3                    4                     8                      27   \n",
      "4                    3                    11                      25   \n",
      "5                    3                    14                      20   \n",
      "6                    2                    16                      24   \n",
      "7                    4                    20                      16   \n",
      "8                    5                    25                      16   \n",
      "9                    1                    26                      44   \n",
      "10                   8                    34                      61   \n",
      "11                   3                    37                      68   \n",
      "12                   2                    39                      91   \n",
      "13                   9                    48                      58   \n",
      "14                   1                    49                     108   \n",
      "15                   3                    52                     122   \n",
      "16                   5                    57                      60   \n",
      "17                   3                    60                      88   \n",
      "18                   2                    62                      90   \n",
      "19                   1                    63                     236   \n",
      "20                   1                    64                      80   \n",
      "21                   2                    66                     166   \n",
      "22                   2                    68                     121   \n",
      "23                   3                    71                     222   \n",
      "24                   3                    74                     165   \n",
      "25                   5                    79                     113   \n",
      "26                   2                    81                     168   \n",
      "27                   2                    83                     202   \n",
      "28                   2                    85                     196   \n",
      "29                   2                    87                      92   \n",
      "30                   1                    88                     201   \n",
      "31                   1                    89                     135   \n",
      "32                   0                    89                      95   \n",
      "33                   1                    90                      98   \n",
      "34                   2                    92                      54   \n",
      "35                   2                    94                     103   \n",
      "36                   1                    95                      90   \n",
      "37                   2                    97                     121   \n",
      "38                   1                    98                      99   \n",
      "39                   0                    98                     100   \n",
      "40                   1                    99                      95   \n",
      "41                   1                   100                      75   \n",
      "42                   1                   101                      55   \n",
      "43                   2                   103                      84   \n",
      "44                   0                   103                      39   \n",
      "45                   1                   104                     116   \n",
      "46                   1                   105                      87   \n",
      "\n",
      "    total_recovered_malaysia  \n",
      "0                         60  \n",
      "1                         75  \n",
      "2                         87  \n",
      "3                        114  \n",
      "4                        139  \n",
      "5                        159  \n",
      "6                        183  \n",
      "7                        199  \n",
      "8                        215  \n",
      "9                        259  \n",
      "10                       320  \n",
      "11                       388  \n",
      "12                       479  \n",
      "13                       537  \n",
      "14                       645  \n",
      "15                       767  \n",
      "16                       827  \n",
      "17                       915  \n",
      "18                      1005  \n",
      "19                      1241  \n",
      "20                      1321  \n",
      "21                      1487  \n",
      "22                      1608  \n",
      "23                      1830  \n",
      "24                      1995  \n",
      "25                      2108  \n",
      "26                      2276  \n",
      "27                      2478  \n",
      "28                      2674  \n",
      "29                      2766  \n",
      "30                      2967  \n",
      "31                      3102  \n",
      "32                      3197  \n",
      "33                      3295  \n",
      "34                      3349  \n",
      "35                      3452  \n",
      "36                      3542  \n",
      "37                      3663  \n",
      "38                      3762  \n",
      "39                      3862  \n",
      "40                      3957  \n",
      "41                      4032  \n",
      "42                      4087  \n",
      "43                      4171  \n",
      "44                      4210  \n",
      "45                      4326  \n",
      "46                      4413  \n"
     ]
    }
   ],
   "source": [
    "print(df)"
   ]
  },
  {
   "cell_type": "code",
   "execution_count": 4,
   "metadata": {},
   "outputs": [
    {
     "data": {
      "image/png": "[encoded data removed]",
      "text/plain": [
       "<Figure size 1152x576 with 1 Axes>"
      ]
     },
     "metadata": {
      "needs_background": "light"
     },
     "output_type": "display_data"
    }
   ],
   "source": [
    "plt.figure(figsize=(16,8))\n",
    "plt.scatter(\n",
    "    df['day'],\n",
    "    df['new_cases_malaysia'],\n",
    "    c='black'\n",
    ")\n",
    "\n",
    "plt.xlabel(\"No of Days\")\n",
    "plt.ylabel(\"No of Individuals\")\n",
    "plt.show()"
   ]
  },
  {
   "cell_type": "code",
   "execution_count": 5,
   "metadata": {},
   "outputs": [
    {
     "name": "stdout",
     "output_type": "stream",
     "text": [
      "The linear model is: Y = 313.37 + -2.4832X\n"
     ]
    }
   ],
   "source": [
    "\n",
    "X = df['day'].values.reshape(-1,1)\n",
    "Y = df['new_cases_malaysia'].values.reshape(-1,1)\n",
    "reg = LinearRegression()\n",
    "reg.fit(X,Y)\n",
    "print(\"The linear model is: Y = {:.5} + {:.5}X\".format(reg.intercept_[0], reg.coef_[0][0]))"
   ]
  },
  {
   "cell_type": "code",
   "execution_count": 7,
   "metadata": {},
   "outputs": [
    {
     "data": {
      "image/png": "[encoded data removed]",
      "text/plain": [
       "<Figure size 1152x576 with 1 Axes>"
      ]
     },
     "metadata": {
      "needs_background": "light"
     },
     "output_type": "display_data"
    }
   ],
   "source": [
    "predictions = reg.predict(X)\n",
    "plt.figure(figsize=(16,8))\n",
    "plt.scatter(\n",
    "    df['day'],\n",
    "    df['new_cases_malaysia'],\n",
    "    c='black'\n",
    ")\n",
    "\n",
    "plt.plot(\n",
    "    df['day'],\n",
    "    predictions,\n",
    "    c='blue',\n",
    "    linewidth = 2\n",
    ")\n",
    "\n",
    "plt.xticks(np.arange(min(df['day']), max(df['day']), 5.0))\n",
    "plt.xlabel(\"Day count\")\n",
    "plt.ylabel(\"No of new cases\")\n",
    "plt.title('Linear Regression - MCO')\n",
    "plt.show()"
   ]
  },
  {
   "cell_type": "code",
   "execution_count": 14,
   "metadata": {},
   "outputs": [
    {
     "name": "stdout",
     "output_type": "stream",
     "text": [
      "================================ MCO Results =================================\n",
      "                            OLS Regression Results                            \n",
      "==============================================================================\n",
      "Dep. Variable:     new_cases_malaysia   R-squared:                       0.422\n",
      "Model:                            OLS   Adj. R-squared:                  0.410\n",
      "Method:                 Least Squares   F-statistic:                     32.90\n",
      "Date:                Wed, 01 Jul 2020   Prob (F-statistic):           7.68e-07\n",
      "Time:                        20:58:34   Log-Likelihood:                -239.35\n",
      "No. Observations:                  47   AIC:                             482.7\n",
      "Df Residuals:                      45   BIC:                             486.4\n",
      "Df Model:                           1                                         \n",
      "Covariance Type:            nonrobust                                         \n",
      "==============================================================================\n",
      "                 coef    std err          t      P>|t|      [0.025      0.975]\n",
      "------------------------------------------------------------------------------\n",
      "const        313.3730     34.273      9.143      0.000     244.343     382.403\n",
      "day           -2.4832      0.433     -5.736      0.000      -3.355      -1.611\n",
      "==============================================================================\n",
      "Omnibus:                        3.559   Durbin-Watson:                   1.204\n",
      "Prob(Omnibus):                  0.169   Jarque-Bera (JB):                2.277\n",
      "Skew:                           0.335   Prob(JB):                        0.320\n",
      "Kurtosis:                       2.154   Cond. No.                         462.\n",
      "==============================================================================\n",
      "\n",
      "Warnings:\n",
      "[1] Standard Errors assume that the covariance matrix of the errors is correctly specified.\n"
     ]
    }
   ],
   "source": [
    "X = df['day']\n",
    "Y = df['new_cases_malaysia']\n",
    "X2 = sm.add_constant(X)\n",
    "est = sm.OLS(Y, X2)\n",
    "est2 = est.fit()\n",
    "print(\"================================ MCO Results =================================\")\n",
    "print( est2.summary())"
   ]
  },
  {
   "cell_type": "code",
   "execution_count": null,
   "metadata": {},
   "outputs": [],
   "source": []
  },
  {
   "cell_type": "code",
   "execution_count": null,
   "metadata": {},
   "outputs": [],
   "source": []
  }
 ],
 "metadata": {
  "kernelspec": {
   "display_name": "Python 3",
   "language": "python",
   "name": "python3"
  },
  "language_info": {
   "codemirror_mode": {
    "name": "ipython",
    "version": 3
   },
   "file_extension": ".py",
   "mimetype": "text/x-python",
   "name": "python",
   "nbconvert_exporter": "python",
   "pygments_lexer": "ipython3",
   "version": "3.7.6"
  }
 },
 "nbformat": 4,
 "nbformat_minor": 4
}
