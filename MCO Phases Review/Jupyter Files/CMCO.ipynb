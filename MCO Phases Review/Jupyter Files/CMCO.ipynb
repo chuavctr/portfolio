{
 "cells": [
  {
   "cell_type": "markdown",
   "metadata": {},
   "source": [
    "# CMCO Graph"
   ]
  },
  {
   "cell_type": "code",
   "execution_count": 2,
   "metadata": {},
   "outputs": [],
   "source": [
    "import pandas as pd\n",
    "import numpy as np \n",
    "import matplotlib.pyplot as plt\n",
    "from sklearn.linear_model import LinearRegression\n",
    "import statsmodels.api as sm\n",
    "import seaborn as seabornInstance \n",
    "from sklearn import metrics"
   ]
  },
  {
   "cell_type": "code",
   "execution_count": 3,
   "metadata": {},
   "outputs": [],
   "source": [
    "df = pd.read_csv(r'C19 CMCO.csv')\n",
    "df = df.dropna()"
   ]
  },
  {
   "cell_type": "code",
   "execution_count": 4,
   "metadata": {},
   "outputs": [
    {
     "name": "stdout",
     "output_type": "stream",
     "text": [
      "    day      date  new_cases_malaysia  total_cases_malaysia  \\\n",
      "0   102  04-05-20                  55                  6353   \n",
      "1   103  05-05-20                  30                  6383   \n",
      "2   104  06-05-20                  45                  6428   \n",
      "3   105  07-05-20                  39                  6467   \n",
      "4   106  08-05-20                  68                  6535   \n",
      "5   107  09-05-20                  54                  6589   \n",
      "6   108  10-05-20                  67                  6656   \n",
      "7   109  11-05-20                  70                  6726   \n",
      "8   110  12-05-20                  16                  6742   \n",
      "9   111  13-05-20                  37                  6779   \n",
      "10  112  14-05-20                  40                  6819   \n",
      "11  113  15-05-20                  36                  6855   \n",
      "12  114  16-05-20                  17                  6872   \n",
      "13  115  17-05-20                  22                  6894   \n",
      "14  116  18-05-20                  47                  6941   \n",
      "15  117  19-05-20                  37                  6978   \n",
      "16  118  20-05-20                  31                  7009   \n",
      "17  119  21-05-20                  50                  7059   \n",
      "18  120  22-05-20                  78                  7137   \n",
      "19  121  23-05-20                  48                  7185   \n",
      "20  122  24-05-20                  60                  7245   \n",
      "21  123  25-05-20                 172                  7417   \n",
      "22  124  26-05-20                 187                  7604   \n",
      "23  125  27-05-20                  15                  7619   \n",
      "24  126  28-05-20                  10                  7629   \n",
      "25  127  29-05-20                 103                  7732   \n",
      "26  128  30-05-20                  30                  7762   \n",
      "27  129  31-05-20                  57                  7819   \n",
      "28  130  01-06-20                  38                  7857   \n",
      "29  131  02-06-20                  20                  7877   \n",
      "30  132  03-06-20                  93                  7970   \n",
      "31  133  04-06-20                 277                  8247   \n",
      "32  134  05-06-20                  19                  8266   \n",
      "33  135  06-06-20                  37                  8303   \n",
      "34  136  07-06-20                  19                  8322   \n",
      "35  137  08-06-20                   7                  8329   \n",
      "36  138  09-06-20                   7                  8336   \n",
      "\n",
      "    new_death_malaysia  total_death_malaysia  new_recovered_malaysia  \\\n",
      "0                    0                   105                      71   \n",
      "1                    2                   107                      83   \n",
      "2                    0                   107                     135   \n",
      "3                    0                   107                      74   \n",
      "4                    1                   108                      88   \n",
      "5                    0                   108                      65   \n",
      "6                    0                   108                      96   \n",
      "7                    1                   109                      88   \n",
      "8                    0                   109                     110   \n",
      "9                    2                   111                      58   \n",
      "10                   1                   112                      70   \n",
      "11                   0                   112                      88   \n",
      "12                   1                   113                      73   \n",
      "13                   0                   113                      59   \n",
      "14                   0                   113                      44   \n",
      "15                   1                   114                      31   \n",
      "16                   0                   114                      60   \n",
      "17                   0                   114                      90   \n",
      "18                   1                   115                      63   \n",
      "19                   0                   115                      53   \n",
      "20                   0                   115                      33   \n",
      "21                   0                   115                      34   \n",
      "22                   0                   115                      62   \n",
      "23                   0                   115                      42   \n",
      "24                   0                   115                      86   \n",
      "25                   0                   115                      66   \n",
      "26                   0                   115                      95   \n",
      "27                   0                   115                      23   \n",
      "28                   0                   115                      51   \n",
      "29                   0                   115                      66   \n",
      "30                   0                   115                      61   \n",
      "31                   0                   115                      28   \n",
      "32                   1                   116                      51   \n",
      "33                   1                   117                      25   \n",
      "34                   0                   117                      39   \n",
      "35                   0                   117                      20   \n",
      "36                   0                   117                     281   \n",
      "\n",
      "    total_recovered_malaysia  \n",
      "0                       4484  \n",
      "1                       4567  \n",
      "2                       4702  \n",
      "3                       4776  \n",
      "4                       4864  \n",
      "5                       4929  \n",
      "6                       5025  \n",
      "7                       5113  \n",
      "8                       5223  \n",
      "9                       5281  \n",
      "10                      5351  \n",
      "11                      5439  \n",
      "12                      5512  \n",
      "13                      5571  \n",
      "14                      5615  \n",
      "15                      5646  \n",
      "16                      5706  \n",
      "17                      5796  \n",
      "18                      5859  \n",
      "19                      5912  \n",
      "20                      5945  \n",
      "21                      5979  \n",
      "22                      6041  \n",
      "23                      6083  \n",
      "24                      6169  \n",
      "25                      6235  \n",
      "26                      6330  \n",
      "27                      6353  \n",
      "28                      6404  \n",
      "29                      6470  \n",
      "30                      6531  \n",
      "31                      6559  \n",
      "32                      6610  \n",
      "33                      6635  \n",
      "34                      6674  \n",
      "35                      6694  \n",
      "36                      6975  \n"
     ]
    }
   ],
   "source": [
    "print(df)"
   ]
  },
  {
   "cell_type": "code",
   "execution_count": 5,
   "metadata": {},
   "outputs": [
    {
     "data": {
      "image/png": "[encoded data removed]",
      "text/plain": [
       "<Figure size 1152x576 with 1 Axes>"
      ]
     },
     "metadata": {
      "needs_background": "light"
     },
     "output_type": "display_data"
    }
   ],
   "source": [
    "plt.figure(figsize=(16,8))\n",
    "plt.scatter(\n",
    "    df['day'],\n",
    "    df['new_cases_malaysia'],\n",
    "    c='black'\n",
    ")\n",
    "\n",
    "plt.xlabel(\"Day Count\")\n",
    "plt.ylabel(\"No of Individuals\")\n",
    "plt.show()"
   ]
  },
  {
   "cell_type": "code",
   "execution_count": 6,
   "metadata": {},
   "outputs": [
    {
     "name": "stdout",
     "output_type": "stream",
     "text": [
      "The linear model is: Y = -2.0171 + 0.47582X\n"
     ]
    }
   ],
   "source": [
    "\n",
    "X = df['day'].values.reshape(-1,1)\n",
    "Y = df['new_cases_malaysia'].values.reshape(-1,1)\n",
    "reg = LinearRegression()\n",
    "reg.fit(X,Y)\n",
    "print(\"The linear model is: Y = {:.5} + {:.5}X\".format(reg.intercept_[0], reg.coef_[0][0]))"
   ]
  },
  {
   "cell_type": "code",
   "execution_count": 7,
   "metadata": {},
   "outputs": [
    {
     "data": {
      "image/png": "[encoded data removed]",
      "text/plain": [
       "<Figure size 1152x576 with 1 Axes>"
      ]
     },
     "metadata": {
      "needs_background": "light"
     },
     "output_type": "display_data"
    }
   ],
   "source": [
    "predictions = reg.predict(X)\n",
    "plt.figure(figsize=(16,8))\n",
    "plt.scatter(\n",
    "    df['day'],\n",
    "    df['new_cases_malaysia'],\n",
    "    c='black'\n",
    ")\n",
    "\n",
    "plt.plot(\n",
    "    df['day'],\n",
    "    predictions,\n",
    "    c='blue',\n",
    "    linewidth = 2\n",
    ")\n",
    "\n",
    "plt.xlabel(\"Day count\")\n",
    "plt.ylabel(\"No of new cases\")\n",
    "plt.title('Linear Regression - CMCO')\n",
    "plt.show()"
   ]
  },
  {
   "cell_type": "code",
   "execution_count": 11,
   "metadata": {},
   "outputs": [
    {
     "name": "stdout",
     "output_type": "stream",
     "text": [
      "================================ CMCO Results ================================\n",
      "                            OLS Regression Results                            \n",
      "==============================================================================\n",
      "Dep. Variable:     new_cases_malaysia   R-squared:                       0.009\n",
      "Model:                            OLS   Adj. R-squared:                 -0.019\n",
      "Method:                 Least Squares   F-statistic:                    0.3197\n",
      "Date:                Wed, 01 Jul 2020   Prob (F-statistic):              0.575\n",
      "Time:                        21:23:50   Log-Likelihood:                -199.51\n",
      "No. Observations:                  37   AIC:                             403.0\n",
      "Df Residuals:                      35   BIC:                             406.2\n",
      "Df Model:                           1                                         \n",
      "Covariance Type:            nonrobust                                         \n",
      "==============================================================================\n",
      "                 coef    std err          t      P>|t|      [0.025      0.975]\n",
      "------------------------------------------------------------------------------\n",
      "const         -2.0171    101.388     -0.020      0.984    -207.845     203.811\n",
      "day            0.4758      0.842      0.565      0.575      -1.233       2.184\n",
      "==============================================================================\n",
      "Omnibus:                       35.143   Durbin-Watson:                   1.656\n",
      "Prob(Omnibus):                  0.000   Jarque-Bera (JB):               90.344\n",
      "Skew:                           2.333   Prob(JB):                     2.41e-20\n",
      "Kurtosis:                       9.069   Cond. No.                     1.36e+03\n",
      "==============================================================================\n",
      "\n",
      "Warnings:\n",
      "[1] Standard Errors assume that the covariance matrix of the errors is correctly specified.\n",
      "[2] The condition number is large, 1.36e+03. This might indicate that there are\n",
      "strong multicollinearity or other numerical problems.\n"
     ]
    }
   ],
   "source": [
    "X = df['day']\n",
    "Y = df['new_cases_malaysia']\n",
    "X2 = sm.add_constant(X)\n",
    "est = sm.OLS(Y, X2)\n",
    "est2 = est.fit()\n",
    "print(\"================================ CMCO Results ================================\")\n",
    "print(est2.summary())"
   ]
  },
  {
   "cell_type": "code",
   "execution_count": null,
   "metadata": {},
   "outputs": [],
   "source": []
  },
  {
   "cell_type": "code",
   "execution_count": null,
   "metadata": {},
   "outputs": [],
   "source": []
  }
 ],
 "metadata": {
  "kernelspec": {
   "display_name": "Python 3",
   "language": "python",
   "name": "python3"
  },
  "language_info": {
   "codemirror_mode": {
    "name": "ipython",
    "version": 3
   },
   "file_extension": ".py",
   "mimetype": "text/x-python",
   "name": "python",
   "nbconvert_exporter": "python",
   "pygments_lexer": "ipython3",
   "version": "3.8.3"
  }
 },
 "nbformat": 4,
 "nbformat_minor": 4
}
