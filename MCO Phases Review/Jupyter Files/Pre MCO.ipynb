{
 "cells": [
  {
   "cell_type": "code",
   "execution_count": 18,
   "metadata": {},
   "outputs": [],
   "source": [
    "import pandas as pd\n",
    "import numpy as np \n",
    "import matplotlib.pyplot as plt\n",
    "from sklearn.linear_model import LinearRegression\n",
    "import statsmodels.api as sm\n",
    "import seaborn as seabornInstance \n",
    "from sklearn import metrics"
   ]
  },
  {
   "cell_type": "code",
   "execution_count": 19,
   "metadata": {},
   "outputs": [],
   "source": [
    "df = pd.read_csv(r'C19 P1.csv')\n",
    "df = df.dropna()"
   ]
  },
  {
   "cell_type": "code",
   "execution_count": 20,
   "metadata": {},
   "outputs": [
    {
     "name": "stdout",
     "output_type": "stream",
     "text": [
      "    day      date  new_cases_malaysia  total_cases_malaysia  \\\n",
      "0     1  24-01-20                   0                     0   \n",
      "1     2  25-01-20                   4                     4   \n",
      "2     3  26-01-20                   0                     4   \n",
      "3     4  27-01-20                   0                     4   \n",
      "4     5  28-01-20                   3                     7   \n",
      "5     6  29-01-20                   0                     7   \n",
      "6     7  30-01-20                   1                     8   \n",
      "7     8  31-01-20                   0                     8   \n",
      "8     9  01-02-20                   0                     8   \n",
      "9    10  02-02-20                   0                     8   \n",
      "10   11  03-02-20                   0                     8   \n",
      "11   12  04-02-20                   2                    10   \n",
      "12   13  05-02-20                   2                    12   \n",
      "13   14  06-02-20                   2                    14   \n",
      "14   15  07-02-20                   1                    15   \n",
      "15   16  08-02-20                   1                    16   \n",
      "16   17  09-02-20                   1                    17   \n",
      "17   18  10-02-20                   1                    18   \n",
      "18   19  11-02-20                   0                    18   \n",
      "19   20  12-02-20                   0                    18   \n",
      "20   21  13-02-20                   1                    19   \n",
      "21   22  14-02-20                   0                    19   \n",
      "22   23  15-02-20                   2                    21   \n",
      "23   24  16-02-20                   1                    22   \n",
      "24   25  17-02-20                   0                    22   \n",
      "25   26  18-02-20                   0                    22   \n",
      "26   27  19-02-20                   0                    22   \n",
      "27   28  20-02-20                   0                    22   \n",
      "28   29  21-02-20                   0                    22   \n",
      "29   30  22-02-20                   0                    22   \n",
      "30   31  23-02-20                   0                    22   \n",
      "31   32  24-02-20                   0                    22   \n",
      "32   33  25-02-20                   0                    22   \n",
      "33   34  26-02-20                   0                    22   \n",
      "34   35  27-02-20                   1                    23   \n",
      "35   36  28-02-20                   2                    25   \n",
      "36   37  29-02-20                   0                    25   \n",
      "37   38  01-03-20                   4                    29   \n",
      "38   39  02-03-20                   0                    29   \n",
      "39   40  03-03-20                   7                    36   \n",
      "40   41  04-03-20                  14                    50   \n",
      "41   42  05-03-20                   5                    55   \n",
      "42   43  06-03-20                  28                    83   \n",
      "43   44  07-03-20                  10                    93   \n",
      "44   45  08-03-20                   6                    99   \n",
      "45   46  09-03-20                  18                   117   \n",
      "46   47  10-03-20                  12                   129   \n",
      "47   48  11-03-20                  20                   149   \n",
      "48   49  12-03-20                   9                   158   \n",
      "49   50  13-03-20                  39                   197   \n",
      "50   51  14-03-20                  41                   238   \n",
      "51   52  15-03-20                 190                   428   \n",
      "52   53  16-03-20                 125                   553   \n",
      "53   54  17-03-20                 120                   673   \n",
      "\n",
      "    new_death_malaysia  total_death_malaysia  new_recovered_malaysia  \\\n",
      "0                    0                     0                       0   \n",
      "1                    0                     0                       0   \n",
      "2                    0                     0                       0   \n",
      "3                    0                     0                       0   \n",
      "4                    0                     0                       0   \n",
      "5                    0                     0                       0   \n",
      "6                    0                     0                       0   \n",
      "7                    0                     0                       0   \n",
      "8                    0                     0                       0   \n",
      "9                    0                     0                       0   \n",
      "10                   0                     0                       0   \n",
      "11                   0                     0                       1   \n",
      "12                   0                     0                       0   \n",
      "13                   0                     0                       0   \n",
      "14                   0                     0                       0   \n",
      "15                   0                     0                       1   \n",
      "16                   0                     0                       1   \n",
      "17                   0                     0                       0   \n",
      "18                   0                     0                       0   \n",
      "19                   0                     0                       0   \n",
      "20                   0                     0                       0   \n",
      "21                   0                     0                       4   \n",
      "22                   0                     0                       0   \n",
      "23                   0                     0                       1   \n",
      "24                   0                     0                       1   \n",
      "25                   0                     0                       2   \n",
      "26                   0                     0                       4   \n",
      "27                   0                     0                       2   \n",
      "28                   0                     0                       0   \n",
      "29                   0                     0                       0   \n",
      "30                   0                     0                       1   \n",
      "31                   0                     0                       2   \n",
      "32                   0                     0                       0   \n",
      "33                   0                     0                       0   \n",
      "34                   0                     0                       2   \n",
      "35                   0                     0                       0   \n",
      "36                   0                     0                       0   \n",
      "37                   0                     0                       0   \n",
      "38                   0                     0                       0   \n",
      "39                   0                     0                       0   \n",
      "40                   0                     0                       0   \n",
      "41                   0                     0                       0   \n",
      "42                   0                     0                       1   \n",
      "43                   0                     0                       0   \n",
      "44                   0                     0                       0   \n",
      "45                   0                     0                       1   \n",
      "46                   0                     0                       0   \n",
      "47                   0                     0                       2   \n",
      "48                   0                     0                       6   \n",
      "49                   0                     0                       1   \n",
      "50                   0                     0                       2   \n",
      "51                   0                     0                       7   \n",
      "52                   0                     0                       0   \n",
      "53                   2                     2                       7   \n",
      "\n",
      "    total_recovered_malaysia  \n",
      "0                          0  \n",
      "1                          0  \n",
      "2                          0  \n",
      "3                          0  \n",
      "4                          0  \n",
      "5                          0  \n",
      "6                          0  \n",
      "7                          0  \n",
      "8                          0  \n",
      "9                          0  \n",
      "10                         0  \n",
      "11                         1  \n",
      "12                         1  \n",
      "13                         1  \n",
      "14                         1  \n",
      "15                         2  \n",
      "16                         3  \n",
      "17                         3  \n",
      "18                         3  \n",
      "19                         3  \n",
      "20                         3  \n",
      "21                         7  \n",
      "22                         7  \n",
      "23                         8  \n",
      "24                         9  \n",
      "25                        11  \n",
      "26                        15  \n",
      "27                        17  \n",
      "28                        17  \n",
      "29                        17  \n",
      "30                        18  \n",
      "31                        20  \n",
      "32                        20  \n",
      "33                        20  \n",
      "34                        22  \n",
      "35                        22  \n",
      "36                        22  \n",
      "37                        22  \n",
      "38                        22  \n",
      "39                        22  \n",
      "40                        22  \n",
      "41                        22  \n",
      "42                        23  \n",
      "43                        23  \n",
      "44                        23  \n",
      "45                        24  \n",
      "46                        24  \n",
      "47                        26  \n",
      "48                        32  \n",
      "49                        33  \n",
      "50                        35  \n",
      "51                        42  \n",
      "52                        42  \n",
      "53                        49  \n"
     ]
    }
   ],
   "source": [
    "print(df)"
   ]
  },
  {
   "cell_type": "code",
   "execution_count": 30,
   "metadata": {},
   "outputs": [
    {
     "data": {
      "image/png": "[encoded data removed]",
      "text/plain": [
       "<Figure size 1152x576 with 1 Axes>"
      ]
     },
     "metadata": {
      "needs_background": "light"
     },
     "output_type": "display_data"
    }
   ],
   "source": [
    "plt.figure(figsize=(16,8))\n",
    "plt.scatter(\n",
    "    df['day'],\n",
    "    df['new_cases_malaysia'],\n",
    "    c='black'\n",
    ")\n",
    "\n",
    "plt.xlabel(\"No of Days\")\n",
    "plt.ylabel(\"No of Individuals\")\n",
    "plt.show()"
   ]
  },
  {
   "cell_type": "code",
   "execution_count": 31,
   "metadata": {},
   "outputs": [
    {
     "name": "stdout",
     "output_type": "stream",
     "text": [
      "The linear model is: Y = -18.593 + 1.1293X\n"
     ]
    }
   ],
   "source": [
    "\n",
    "X = df['day'].values.reshape(-1,1)\n",
    "Y = df['new_cases_malaysia'].values.reshape(-1,1)\n",
    "reg = LinearRegression()\n",
    "reg.fit(X,Y)\n",
    "print(\"The linear model is: Y = {:.5} + {:.5}X\".format(reg.intercept_[0], reg.coef_[0][0]))"
   ]
  },
  {
   "cell_type": "code",
   "execution_count": 32,
   "metadata": {},
   "outputs": [
    {
     "data": {
      "image/png": "[encoded data removed]",
      "text/plain": [
       "<Figure size 1152x576 with 1 Axes>"
      ]
     },
     "metadata": {
      "needs_background": "light"
     },
     "output_type": "display_data"
    }
   ],
   "source": [
    "predictions = reg.predict(X)\n",
    "plt.figure(figsize=(16,8))\n",
    "plt.scatter(\n",
    "    df['day'],\n",
    "    df['new_cases_malaysia'],\n",
    "    c='black'\n",
    ")\n",
    "\n",
    "plt.plot(\n",
    "    df['day'],\n",
    "    predictions,\n",
    "    c='blue',\n",
    "    linewidth = 2\n",
    ")\n",
    "plt.xticks(np.arange(min(df['day']-1), max(df['day']), 5.0))\n",
    "\n",
    "plt.xlabel(\"Day Count\")\n",
    "plt.ylabel(\"No of new cases\")\n",
    "plt.title('Linear Regression - Pre MCO')\n",
    "plt.show()"
   ]
  },
  {
   "cell_type": "code",
   "execution_count": 29,
   "metadata": {},
   "outputs": [
    {
     "name": "stdout",
     "output_type": "stream",
     "text": [
      "============================== Pre - MCO Results =============================\n",
      "                            OLS Regression Results                            \n",
      "==============================================================================\n",
      "Dep. Variable:     new_cases_malaysia   R-squared:                       0.265\n",
      "Model:                            OLS   Adj. R-squared:                  0.251\n",
      "Method:                 Least Squares   F-statistic:                     18.74\n",
      "Date:                Wed, 01 Jul 2020   Prob (F-statistic):           6.84e-05\n",
      "Time:                        21:03:56   Log-Likelihood:                -259.05\n",
      "No. Observations:                  54   AIC:                             522.1\n",
      "Df Residuals:                      52   BIC:                             526.1\n",
      "Df Model:                           1                                         \n",
      "Covariance Type:            nonrobust                                         \n",
      "==============================================================================\n",
      "                 coef    std err          t      P>|t|      [0.025      0.975]\n",
      "------------------------------------------------------------------------------\n",
      "const        -18.5926      8.246     -2.255      0.028     -35.139      -2.046\n",
      "day            1.1293      0.261      4.329      0.000       0.606       1.653\n",
      "==============================================================================\n",
      "Omnibus:                       62.004   Durbin-Watson:                   0.618\n",
      "Prob(Omnibus):                  0.000   Jarque-Bera (JB):              406.965\n",
      "Skew:                           3.137   Prob(JB):                     4.25e-89\n",
      "Kurtosis:                      14.896   Cond. No.                         64.2\n",
      "==============================================================================\n",
      "\n",
      "Warnings:\n",
      "[1] Standard Errors assume that the covariance matrix of the errors is correctly specified.\n"
     ]
    }
   ],
   "source": [
    "X = df['day']\n",
    "Y = df['new_cases_malaysia']\n",
    "X2 = sm.add_constant(X)\n",
    "est = sm.OLS(Y, X2)\n",
    "est2 = est.fit()\n",
    "print(\"============================== Pre - MCO Results =============================\")\n",
    "print(est2.summary())"
   ]
  },
  {
   "cell_type": "code",
   "execution_count": null,
   "metadata": {},
   "outputs": [],
   "source": []
  },
  {
   "cell_type": "code",
   "execution_count": null,
   "metadata": {},
   "outputs": [],
   "source": []
  }
 ],
 "metadata": {
  "kernelspec": {
   "display_name": "Python 3",
   "language": "python",
   "name": "python3"
  },
  "language_info": {
   "codemirror_mode": {
    "name": "ipython",
    "version": 3
   },
   "file_extension": ".py",
   "mimetype": "text/x-python",
   "name": "python",
   "nbconvert_exporter": "python",
   "pygments_lexer": "ipython3",
   "version": "3.8.3"
  }
 },
 "nbformat": 4,
 "nbformat_minor": 4
}
